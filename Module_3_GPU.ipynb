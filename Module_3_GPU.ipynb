{
  "nbformat": 4,
  "nbformat_minor": 0,
  "metadata": {
    "colab": {
      "provenance": [],
      "include_colab_link": true
    },
    "kernelspec": {
      "name": "python3",
      "display_name": "Python 3"
    },
    "language_info": {
      "name": "python"
    }
  },
  "cells": [
    {
      "cell_type": "markdown",
      "metadata": {
        "id": "view-in-github",
        "colab_type": "text"
      },
      "source": [
        "<a href=\"https://colab.research.google.com/github/yn224/4C_blog/blob/main/Module_3_GPU.ipynb\" target=\"_parent\"><img src=\"https://colab.research.google.com/assets/colab-badge.svg\" alt=\"Open In Colab\"/></a>"
      ]
    },
    {
      "cell_type": "markdown",
      "source": [
        "# How to run on GPU\n",
        "\n",
        "Step 1) Go to https://github.com/settings/tokens and get a token that can read your private repos\n",
        "\n",
        "Step 2) Clone this colab notebook and change the execution environment to GPU.\n",
        "\n",
        "Step 3) Install python 3.8\n",
        "\n",
        "Step 4) Clone and install your code.\n",
        "\n",
        "Step 5) Run the command-line code for training."
      ],
      "metadata": {
        "id": "z4pWhxZCyMQ-"
      }
    },
    {
      "cell_type": "markdown",
      "source": [
        "## Step 3: Install python 3.8\n",
        "Run the cell below without editing it."
      ],
      "metadata": {
        "id": "BTzMYZB5yynZ"
      }
    },
    {
      "cell_type": "code",
      "execution_count": null,
      "metadata": {
        "id": "lciKNd6myIjl"
      },
      "outputs": [],
      "source": [
        "!sudo apt-get update -y\n",
        "!sudo apt-get install python3.8\n",
        "!curl https://bootstrap.pypa.io/get-pip.py -o get-pip.py\n",
        "!python3.8 get-pip.py"
      ]
    },
    {
      "cell_type": "markdown",
      "source": [
        "## Step 4: Clone and install your code\n",
        "First we need to set some environment variables. Get your github API token and MLE repo username and put them into the below variables."
      ],
      "metadata": {
        "id": "guhMlPoey3zE"
      }
    },
    {
      "cell_type": "code",
      "source": [
        "%env TOKEN=TOKEN_HERE\n",
        "%env USER=USER_HERE"
      ],
      "metadata": {
        "id": "wmmAQK12zJJP"
      },
      "execution_count": null,
      "outputs": []
    },
    {
      "cell_type": "markdown",
      "source": [
        "Run the below code. Editing should not be necessary."
      ],
      "metadata": {
        "id": "-JZt2xZwzS2b"
      }
    },
    {
      "cell_type": "code",
      "source": [
        "TOKEN = %env TOKEN\n",
        "USER = %env USER\n",
        "%env DIR=mle-module-3-$USER\n",
        "DIR = %env DIR\n",
        "\n",
        "!echo https://$TOKEN@github.com/Cornell-Tech-ML/$DIR\n",
        "\n",
        "!git clone -b master --single-branch https://$TOKEN@github.com/Cornell-Tech-ML/$DIR\n",
        "!cd $DIR; pip3.8 install -r requirements.txt; pip3.8 install -r requirements.extra.txt; pip3.8 install . "
      ],
      "metadata": {
        "id": "ZYb6KtYFzJjD"
      },
      "execution_count": null,
      "outputs": []
    },
    {
      "cell_type": "markdown",
      "source": [
        "If you update your code, you can re-pull the repo by running this cell."
      ],
      "metadata": {
        "id": "E2xn5AhUzaW_"
      }
    },
    {
      "cell_type": "code",
      "source": [
        "!cd $DIR; git pull origin master; pip3.8 install --force-reinstall --no-cache-dir . "
      ],
      "metadata": {
        "id": "GywpmTnozf26"
      },
      "execution_count": null,
      "outputs": []
    },
    {
      "cell_type": "markdown",
      "source": [
        "## Step 5: Run the training command"
      ],
      "metadata": {
        "id": "qufLzTGmzs1K"
      }
    },
    {
      "cell_type": "code",
      "source": [
        "!cd $DIR; PYTHONPATH=/content/$DIR python3.8 project/run_fast_tensor.py --BACKEND gpu --HIDDEN 100 --DATASET split --RATE 0.05"
      ],
      "metadata": {
        "id": "FY8Q4MqEzvGW"
      },
      "execution_count": null,
      "outputs": []
    }
  ]
}